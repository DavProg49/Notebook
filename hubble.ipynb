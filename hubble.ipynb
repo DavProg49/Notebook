{
  "nbformat": 4,
  "nbformat_minor": 0,
  "metadata": {
    "colab": {
      "name": "hubble.ipynb",
      "provenance": [],
      "collapsed_sections": [],
      "authorship_tag": "ABX9TyOamIbrNgou5yYfsgNPKe8Z",
      "include_colab_link": true
    },
    "kernelspec": {
      "name": "python3",
      "display_name": "Python 3"
    }
  },
  "cells": [
    {
      "cell_type": "markdown",
      "metadata": {
        "id": "view-in-github",
        "colab_type": "text"
      },
      "source": [
        "<a href=\"https://colab.research.google.com/github/DavProg49/Notebook/blob/main/hubble.ipynb\" target=\"_parent\"><img src=\"https://colab.research.google.com/assets/colab-badge.svg\" alt=\"Open In Colab\"/></a>"
      ]
    },
    {
      "cell_type": "code",
      "metadata": {
        "id": "uM02Q51Wp1Dq",
        "colab": {
          "base_uri": "https://localhost:8080/",
          "height": 300
        },
        "outputId": "64ded5c7-135a-4ee8-e69d-1d50c0d5c0df"
      },
      "source": [
        "import matplotlib.pyplot as plt\n",
        "import numpy as np\n",
        "import pandas as pd\n",
        "from sklearn import datasets, linear_model\n",
        "from sklearn.metrics import mean_squared_error, r2_score\n",
        "\n",
        "df = pd.read_csv('hubble_data.csv')\n",
        "\n",
        "df.describe()\n"
      ],
      "execution_count": null,
      "outputs": [
        {
          "output_type": "execute_result",
          "data": {
            "text/html": [
              "<div>\n",
              "<style scoped>\n",
              "    .dataframe tbody tr th:only-of-type {\n",
              "        vertical-align: middle;\n",
              "    }\n",
              "\n",
              "    .dataframe tbody tr th {\n",
              "        vertical-align: top;\n",
              "    }\n",
              "\n",
              "    .dataframe thead th {\n",
              "        text-align: right;\n",
              "    }\n",
              "</style>\n",
              "<table border=\"1\" class=\"dataframe\">\n",
              "  <thead>\n",
              "    <tr style=\"text-align: right;\">\n",
              "      <th></th>\n",
              "      <th>distance</th>\n",
              "      <th>recession_velocity</th>\n",
              "    </tr>\n",
              "  </thead>\n",
              "  <tbody>\n",
              "    <tr>\n",
              "      <th>count</th>\n",
              "      <td>24.000000</td>\n",
              "      <td>24.000000</td>\n",
              "    </tr>\n",
              "    <tr>\n",
              "      <th>mean</th>\n",
              "      <td>0.911375</td>\n",
              "      <td>373.125000</td>\n",
              "    </tr>\n",
              "    <tr>\n",
              "      <th>std</th>\n",
              "      <td>0.645496</td>\n",
              "      <td>371.254666</td>\n",
              "    </tr>\n",
              "    <tr>\n",
              "      <th>min</th>\n",
              "      <td>0.032000</td>\n",
              "      <td>-220.000000</td>\n",
              "    </tr>\n",
              "    <tr>\n",
              "      <th>25%</th>\n",
              "      <td>0.406250</td>\n",
              "      <td>165.000000</td>\n",
              "    </tr>\n",
              "    <tr>\n",
              "      <th>50%</th>\n",
              "      <td>0.900000</td>\n",
              "      <td>295.000000</td>\n",
              "    </tr>\n",
              "    <tr>\n",
              "      <th>75%</th>\n",
              "      <td>1.175000</td>\n",
              "      <td>537.500000</td>\n",
              "    </tr>\n",
              "    <tr>\n",
              "      <th>max</th>\n",
              "      <td>2.000000</td>\n",
              "      <td>1090.000000</td>\n",
              "    </tr>\n",
              "  </tbody>\n",
              "</table>\n",
              "</div>"
            ],
            "text/plain": [
              "        distance  recession_velocity\n",
              "count  24.000000           24.000000\n",
              "mean    0.911375          373.125000\n",
              "std     0.645496          371.254666\n",
              "min     0.032000         -220.000000\n",
              "25%     0.406250          165.000000\n",
              "50%     0.900000          295.000000\n",
              "75%     1.175000          537.500000\n",
              "max     2.000000         1090.000000"
            ]
          },
          "metadata": {
            "tags": []
          },
          "execution_count": 13
        }
      ]
    },
    {
      "cell_type": "code",
      "metadata": {
        "colab": {
          "base_uri": "https://localhost:8080/"
        },
        "id": "otVPTW27EGzo",
        "outputId": "5fffcb35-f6b2-48f6-aecc-561445c2f2b2"
      },
      "source": [
        "x = df.distance.values.reshape(-1,1)\n",
        "y = df.recession_velocity\n",
        "\n",
        "# Create linear regression object\n",
        "regr = linear_model.LinearRegression()\n",
        "\n",
        "# Train the model\n",
        "regr.fit(x, y)"
      ],
      "execution_count": null,
      "outputs": [
        {
          "output_type": "execute_result",
          "data": {
            "text/plain": [
              "LinearRegression(copy_X=True, fit_intercept=True, n_jobs=None, normalize=False)"
            ]
          },
          "metadata": {
            "tags": []
          },
          "execution_count": 17
        }
      ]
    },
    {
      "cell_type": "code",
      "metadata": {
        "colab": {
          "base_uri": "https://localhost:8080/",
          "height": 307
        },
        "id": "NCmgkHm9LMCu",
        "outputId": "27530a28-b699-4d28-dc2c-123e9cc2dddd"
      },
      "source": [
        "x_pred = regr.predict(x)\n",
        "\n",
        "BIGGER_SIZE = 16\n",
        "\n",
        "plt.rc('font', size=BIGGER_SIZE)# taille de texte par défaut\n",
        "plt.rc('axes', titlesize=BIGGER_SIZE)# taille des titres des axes\n",
        "plt.rc('axes', labelsize=BIGGER_SIZE)# taille des labels des axes\n",
        "plt.rc('xtick', labelsize=BIGGER_SIZE)# taille des ticks des abscisses1\n",
        "plt.rc('ytick', labelsize=BIGGER_SIZE)# taille des ticks des ordonnées\n",
        "plt.rc('legend', fontsize=BIGGER_SIZE)# taille de la légende\n",
        "plt.rc('figure', titlesize=BIGGER_SIZE)# taille du titre\n",
        "plt.figure()\n",
        "plt.title(\"Données de Hubble\")\n",
        "plt.scatter(x, y,  color='black', label=\"données\")\n",
        "plt.plot(x, x_pred, color='red', linewidth=3, label=\"prédiction\")\n",
        "plt.xlabel(\"Distance\")\n",
        "plt.ylabel(\"Vitesse de récession\")\n",
        "plt.legend()\n",
        "plt.show()"
      ],
      "execution_count": null,
      "outputs": [
        {
          "output_type": "display_data",
          "data": {
            "image/png": "[encoded data removed]",
            "text/plain": [
              "<Figure size 432x288 with 1 Axes>"
            ]
          },
          "metadata": {
            "tags": [],
            "needs_background": "light"
          }
        }
      ]
    }
  ]
}