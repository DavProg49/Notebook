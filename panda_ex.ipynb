{
  "nbformat": 4,
  "nbformat_minor": 0,
  "metadata": {
    "colab": {
      "name": "panda_ex.ipynb",
      "provenance": [],
      "collapsed_sections": [],
      "authorship_tag": "ABX9TyMKphaaBuXq4A+fBMKNPuhj",
      "include_colab_link": true
    },
    "kernelspec": {
      "name": "python3",
      "display_name": "Python 3"
    }
  },
  "cells": [
    {
      "cell_type": "markdown",
      "metadata": {
        "id": "view-in-github",
        "colab_type": "text"
      },
      "source": [
        "<a href=\"https://colab.research.google.com/github/DavProg49/Notebook/blob/main/panda_ex.ipynb\" target=\"_parent\"><img src=\"https://colab.research.google.com/assets/colab-badge.svg\" alt=\"Open In Colab\"/></a>"
      ]
    },
    {
      "cell_type": "code",
      "metadata": {
        "id": "auZ_zwj6HxwY"
      },
      "source": [
        "import numpy as np\n",
        "import pandas as pd "
      ],
      "execution_count": 2,
      "outputs": []
    },
    {
      "cell_type": "markdown",
      "metadata": {
        "id": "0OL-AQxNIA5Z"
      },
      "source": [
        "Pandas exemple :"
      ]
    },
    {
      "cell_type": "code",
      "metadata": {
        "colab": {
          "base_uri": "https://localhost:8080/"
        },
        "id": "OYJQaIZAIDAE",
        "outputId": "2482b053-3ddb-4d77-d3d2-afd48ac0c3ea"
      },
      "source": [
        "famille_panda = [\n",
        "    [100, 5  , 20, 80],\n",
        "    [50 , 2.5, 10, 40],\n",
        "    [110, 6  , 22, 80],\n",
        "]\n",
        "famille_panda_numpy = np.array(famille_panda)\n",
        "famille_panda_numpy\n"
      ],
      "execution_count": 5,
      "outputs": [
        {
          "output_type": "execute_result",
          "data": {
            "text/plain": [
              "array([[100. ,   5. ,  20. ,  80. ],\n",
              "       [ 50. ,   2.5,  10. ,  40. ],\n",
              "       [110. ,   6. ,  22. ,  80. ]])"
            ]
          },
          "metadata": {
            "tags": []
          },
          "execution_count": 5
        }
      ]
    },
    {
      "cell_type": "code",
      "metadata": {
        "colab": {
          "base_uri": "https://localhost:8080/",
          "height": 143
        },
        "id": "eujoy4b8IpnB",
        "outputId": "a9130014-c074-4046-cbc2-0befd7254a7e"
      },
      "source": [
        "\n",
        "famille_panda_df = pd.DataFrame(famille_panda)\n",
        "famille_panda_df"
      ],
      "execution_count": 6,
      "outputs": [
        {
          "output_type": "execute_result",
          "data": {
            "text/html": [
              "<div>\n",
              "<style scoped>\n",
              "    .dataframe tbody tr th:only-of-type {\n",
              "        vertical-align: middle;\n",
              "    }\n",
              "\n",
              "    .dataframe tbody tr th {\n",
              "        vertical-align: top;\n",
              "    }\n",
              "\n",
              "    .dataframe thead th {\n",
              "        text-align: right;\n",
              "    }\n",
              "</style>\n",
              "<table border=\"1\" class=\"dataframe\">\n",
              "  <thead>\n",
              "    <tr style=\"text-align: right;\">\n",
              "      <th></th>\n",
              "      <th>0</th>\n",
              "      <th>1</th>\n",
              "      <th>2</th>\n",
              "      <th>3</th>\n",
              "    </tr>\n",
              "  </thead>\n",
              "  <tbody>\n",
              "    <tr>\n",
              "      <th>0</th>\n",
              "      <td>100</td>\n",
              "      <td>5.0</td>\n",
              "      <td>20</td>\n",
              "      <td>80</td>\n",
              "    </tr>\n",
              "    <tr>\n",
              "      <th>1</th>\n",
              "      <td>50</td>\n",
              "      <td>2.5</td>\n",
              "      <td>10</td>\n",
              "      <td>40</td>\n",
              "    </tr>\n",
              "    <tr>\n",
              "      <th>2</th>\n",
              "      <td>110</td>\n",
              "      <td>6.0</td>\n",
              "      <td>22</td>\n",
              "      <td>80</td>\n",
              "    </tr>\n",
              "  </tbody>\n",
              "</table>\n",
              "</div>"
            ],
            "text/plain": [
              "     0    1   2   3\n",
              "0  100  5.0  20  80\n",
              "1   50  2.5  10  40\n",
              "2  110  6.0  22  80"
            ]
          },
          "metadata": {
            "tags": []
          },
          "execution_count": 6
        }
      ]
    },
    {
      "cell_type": "code",
      "metadata": {
        "colab": {
          "base_uri": "https://localhost:8080/",
          "height": 143
        },
        "id": "L2Num3j5IaM-",
        "outputId": "185c05d3-1f8a-4b0d-9fb5-1197ce23ce34"
      },
      "source": [
        "famille_panda_df = pd.DataFrame(famille_panda_numpy,\n",
        "                                index = ['maman', 'bebe', 'papa'],\n",
        "                                columns = ['pattes', 'poil', 'queue', 'ventre'])\n",
        "famille_panda_df"
      ],
      "execution_count": 7,
      "outputs": [
        {
          "output_type": "execute_result",
          "data": {
            "text/html": [
              "<div>\n",
              "<style scoped>\n",
              "    .dataframe tbody tr th:only-of-type {\n",
              "        vertical-align: middle;\n",
              "    }\n",
              "\n",
              "    .dataframe tbody tr th {\n",
              "        vertical-align: top;\n",
              "    }\n",
              "\n",
              "    .dataframe thead th {\n",
              "        text-align: right;\n",
              "    }\n",
              "</style>\n",
              "<table border=\"1\" class=\"dataframe\">\n",
              "  <thead>\n",
              "    <tr style=\"text-align: right;\">\n",
              "      <th></th>\n",
              "      <th>pattes</th>\n",
              "      <th>poil</th>\n",
              "      <th>queue</th>\n",
              "      <th>ventre</th>\n",
              "    </tr>\n",
              "  </thead>\n",
              "  <tbody>\n",
              "    <tr>\n",
              "      <th>maman</th>\n",
              "      <td>100.0</td>\n",
              "      <td>5.0</td>\n",
              "      <td>20.0</td>\n",
              "      <td>80.0</td>\n",
              "    </tr>\n",
              "    <tr>\n",
              "      <th>bebe</th>\n",
              "      <td>50.0</td>\n",
              "      <td>2.5</td>\n",
              "      <td>10.0</td>\n",
              "      <td>40.0</td>\n",
              "    </tr>\n",
              "    <tr>\n",
              "      <th>papa</th>\n",
              "      <td>110.0</td>\n",
              "      <td>6.0</td>\n",
              "      <td>22.0</td>\n",
              "      <td>80.0</td>\n",
              "    </tr>\n",
              "  </tbody>\n",
              "</table>\n",
              "</div>"
            ],
            "text/plain": [
              "       pattes  poil  queue  ventre\n",
              "maman   100.0   5.0   20.0    80.0\n",
              "bebe     50.0   2.5   10.0    40.0\n",
              "papa    110.0   6.0   22.0    80.0"
            ]
          },
          "metadata": {
            "tags": []
          },
          "execution_count": 7
        }
      ]
    },
    {
      "cell_type": "code",
      "metadata": {
        "colab": {
          "base_uri": "https://localhost:8080/"
        },
        "id": "MhEs1HHuIuLQ",
        "outputId": "7cd86c85-9aa4-4543-8930-dba85cda64f7"
      },
      "source": [
        "famille_panda_df.ventre"
      ],
      "execution_count": 9,
      "outputs": [
        {
          "output_type": "execute_result",
          "data": {
            "text/plain": [
              "maman    80.0\n",
              "bebe     40.0\n",
              "papa     80.0\n",
              "Name: ventre, dtype: float64"
            ]
          },
          "metadata": {
            "tags": []
          },
          "execution_count": 9
        }
      ]
    },
    {
      "cell_type": "code",
      "metadata": {
        "colab": {
          "base_uri": "https://localhost:8080/"
        },
        "id": "ysTjRkKVJC3z",
        "outputId": "d55c9f73-8b52-4d99-bfd9-9cf296609491"
      },
      "source": [
        "famille_panda_df[\"ventre\"]"
      ],
      "execution_count": 10,
      "outputs": [
        {
          "output_type": "execute_result",
          "data": {
            "text/plain": [
              "maman    80.0\n",
              "bebe     40.0\n",
              "papa     80.0\n",
              "Name: ventre, dtype: float64"
            ]
          },
          "metadata": {
            "tags": []
          },
          "execution_count": 10
        }
      ]
    },
    {
      "cell_type": "code",
      "metadata": {
        "colab": {
          "base_uri": "https://localhost:8080/"
        },
        "id": "b8LNqpoPJI4Z",
        "outputId": "da93b2f9-666d-4e6b-ed58-557b03461edd"
      },
      "source": [
        "for ind_ligne, contenu_ligne in famille_panda_df.iterrows():\n",
        "    print(\"Voici le panda %s :\" % ind_ligne)\n",
        "    print(contenu_ligne)\n",
        "    print(\"--------------------\")"
      ],
      "execution_count": 11,
      "outputs": [
        {
          "output_type": "stream",
          "text": [
            "Voici le panda maman :\n",
            "pattes    100.0\n",
            "poil        5.0\n",
            "queue      20.0\n",
            "ventre     80.0\n",
            "Name: maman, dtype: float64\n",
            "--------------------\n",
            "Voici le panda bebe :\n",
            "pattes    50.0\n",
            "poil       2.5\n",
            "queue     10.0\n",
            "ventre    40.0\n",
            "Name: bebe, dtype: float64\n",
            "--------------------\n",
            "Voici le panda papa :\n",
            "pattes    110.0\n",
            "poil        6.0\n",
            "queue      22.0\n",
            "ventre     80.0\n",
            "Name: papa, dtype: float64\n",
            "--------------------\n"
          ],
          "name": "stdout"
        }
      ]
    },
    {
      "cell_type": "code",
      "metadata": {
        "colab": {
          "base_uri": "https://localhost:8080/"
        },
        "id": "jj0s2GbxJUzZ",
        "outputId": "96d557f4-296b-486c-897f-586b4b5b14bb"
      },
      "source": [
        "famille_panda_df.iloc[2] # Avec iloc(), indexation positionnelle\n"
      ],
      "execution_count": 12,
      "outputs": [
        {
          "output_type": "execute_result",
          "data": {
            "text/plain": [
              "pattes    110.0\n",
              "poil        6.0\n",
              "queue      22.0\n",
              "ventre     80.0\n",
              "Name: papa, dtype: float64"
            ]
          },
          "metadata": {
            "tags": []
          },
          "execution_count": 12
        }
      ]
    },
    {
      "cell_type": "code",
      "metadata": {
        "colab": {
          "base_uri": "https://localhost:8080/"
        },
        "id": "_8WfRXjnJWZM",
        "outputId": "f3c76275-7638-4fab-b547-1ff44b400193"
      },
      "source": [
        "famille_panda_df.loc[\"papa\"] # Avec loc(), indexation par label"
      ],
      "execution_count": 13,
      "outputs": [
        {
          "output_type": "execute_result",
          "data": {
            "text/plain": [
              "pattes    110.0\n",
              "poil        6.0\n",
              "queue      22.0\n",
              "ventre     80.0\n",
              "Name: papa, dtype: float64"
            ]
          },
          "metadata": {
            "tags": []
          },
          "execution_count": 13
        }
      ]
    },
    {
      "cell_type": "code",
      "metadata": {
        "colab": {
          "base_uri": "https://localhost:8080/"
        },
        "id": "UTKVwmKEJeFq",
        "outputId": "169f5463-47ff-46a1-f27f-5e24a01b4260"
      },
      "source": [
        "famille_panda_df[\"ventre\"] == 80"
      ],
      "execution_count": 14,
      "outputs": [
        {
          "output_type": "execute_result",
          "data": {
            "text/plain": [
              "maman     True\n",
              "bebe     False\n",
              "papa      True\n",
              "Name: ventre, dtype: bool"
            ]
          },
          "metadata": {
            "tags": []
          },
          "execution_count": 14
        }
      ]
    },
    {
      "cell_type": "code",
      "metadata": {
        "colab": {
          "base_uri": "https://localhost:8080/",
          "height": 112
        },
        "id": "IwUa4Y8rJkEN",
        "outputId": "4c6f07ee-0499-4f31-c9a7-56ec75cd7f38"
      },
      "source": [
        "masque = famille_panda_df[\"ventre\"] == 80\n",
        "pandas_80 = famille_panda_df[masque]\n",
        "\n",
        "# On écrit plus souvent cela de cette manière :\n",
        "# pandas_80 = famille_panda_df[famille_panda_df[\"ventre\"] == 80]\n",
        "\n",
        "pandas_80"
      ],
      "execution_count": 15,
      "outputs": [
        {
          "output_type": "execute_result",
          "data": {
            "text/html": [
              "<div>\n",
              "<style scoped>\n",
              "    .dataframe tbody tr th:only-of-type {\n",
              "        vertical-align: middle;\n",
              "    }\n",
              "\n",
              "    .dataframe tbody tr th {\n",
              "        vertical-align: top;\n",
              "    }\n",
              "\n",
              "    .dataframe thead th {\n",
              "        text-align: right;\n",
              "    }\n",
              "</style>\n",
              "<table border=\"1\" class=\"dataframe\">\n",
              "  <thead>\n",
              "    <tr style=\"text-align: right;\">\n",
              "      <th></th>\n",
              "      <th>pattes</th>\n",
              "      <th>poil</th>\n",
              "      <th>queue</th>\n",
              "      <th>ventre</th>\n",
              "    </tr>\n",
              "  </thead>\n",
              "  <tbody>\n",
              "    <tr>\n",
              "      <th>maman</th>\n",
              "      <td>100.0</td>\n",
              "      <td>5.0</td>\n",
              "      <td>20.0</td>\n",
              "      <td>80.0</td>\n",
              "    </tr>\n",
              "    <tr>\n",
              "      <th>papa</th>\n",
              "      <td>110.0</td>\n",
              "      <td>6.0</td>\n",
              "      <td>22.0</td>\n",
              "      <td>80.0</td>\n",
              "    </tr>\n",
              "  </tbody>\n",
              "</table>\n",
              "</div>"
            ],
            "text/plain": [
              "       pattes  poil  queue  ventre\n",
              "maman   100.0   5.0   20.0    80.0\n",
              "papa    110.0   6.0   22.0    80.0"
            ]
          },
          "metadata": {
            "tags": []
          },
          "execution_count": 15
        }
      ]
    },
    {
      "cell_type": "code",
      "metadata": {
        "colab": {
          "base_uri": "https://localhost:8080/",
          "height": 81
        },
        "id": "fFAxQ6u7JuNF",
        "outputId": "8040153b-506c-40aa-9e69-88615290bc94"
      },
      "source": [
        "famille_panda_df[~masque]"
      ],
      "execution_count": 16,
      "outputs": [
        {
          "output_type": "execute_result",
          "data": {
            "text/html": [
              "<div>\n",
              "<style scoped>\n",
              "    .dataframe tbody tr th:only-of-type {\n",
              "        vertical-align: middle;\n",
              "    }\n",
              "\n",
              "    .dataframe tbody tr th {\n",
              "        vertical-align: top;\n",
              "    }\n",
              "\n",
              "    .dataframe thead th {\n",
              "        text-align: right;\n",
              "    }\n",
              "</style>\n",
              "<table border=\"1\" class=\"dataframe\">\n",
              "  <thead>\n",
              "    <tr style=\"text-align: right;\">\n",
              "      <th></th>\n",
              "      <th>pattes</th>\n",
              "      <th>poil</th>\n",
              "      <th>queue</th>\n",
              "      <th>ventre</th>\n",
              "    </tr>\n",
              "  </thead>\n",
              "  <tbody>\n",
              "    <tr>\n",
              "      <th>bebe</th>\n",
              "      <td>50.0</td>\n",
              "      <td>2.5</td>\n",
              "      <td>10.0</td>\n",
              "      <td>40.0</td>\n",
              "    </tr>\n",
              "  </tbody>\n",
              "</table>\n",
              "</div>"
            ],
            "text/plain": [
              "      pattes  poil  queue  ventre\n",
              "bebe    50.0   2.5   10.0    40.0"
            ]
          },
          "metadata": {
            "tags": []
          },
          "execution_count": 16
        }
      ]
    },
    {
      "cell_type": "code",
      "metadata": {
        "colab": {
          "base_uri": "https://localhost:8080/",
          "height": 206
        },
        "id": "KkuF8o_cJxld",
        "outputId": "cf0cc666-39f8-4422-d808-37f060a0c400"
      },
      "source": [
        "quelques_pandas = pd.DataFrame([[105,4,19,80],[100,5,20,80]],      # deux nouveaux pandas\n",
        "                               columns = famille_panda_df.columns) \n",
        "                               # même colonnes que famille_panda_df\n",
        "tous_les_pandas = famille_panda_df.append(quelques_pandas)\n",
        "tous_les_pandas"
      ],
      "execution_count": 17,
      "outputs": [
        {
          "output_type": "execute_result",
          "data": {
            "text/html": [
              "<div>\n",
              "<style scoped>\n",
              "    .dataframe tbody tr th:only-of-type {\n",
              "        vertical-align: middle;\n",
              "    }\n",
              "\n",
              "    .dataframe tbody tr th {\n",
              "        vertical-align: top;\n",
              "    }\n",
              "\n",
              "    .dataframe thead th {\n",
              "        text-align: right;\n",
              "    }\n",
              "</style>\n",
              "<table border=\"1\" class=\"dataframe\">\n",
              "  <thead>\n",
              "    <tr style=\"text-align: right;\">\n",
              "      <th></th>\n",
              "      <th>pattes</th>\n",
              "      <th>poil</th>\n",
              "      <th>queue</th>\n",
              "      <th>ventre</th>\n",
              "    </tr>\n",
              "  </thead>\n",
              "  <tbody>\n",
              "    <tr>\n",
              "      <th>maman</th>\n",
              "      <td>100.0</td>\n",
              "      <td>5.0</td>\n",
              "      <td>20.0</td>\n",
              "      <td>80.0</td>\n",
              "    </tr>\n",
              "    <tr>\n",
              "      <th>bebe</th>\n",
              "      <td>50.0</td>\n",
              "      <td>2.5</td>\n",
              "      <td>10.0</td>\n",
              "      <td>40.0</td>\n",
              "    </tr>\n",
              "    <tr>\n",
              "      <th>papa</th>\n",
              "      <td>110.0</td>\n",
              "      <td>6.0</td>\n",
              "      <td>22.0</td>\n",
              "      <td>80.0</td>\n",
              "    </tr>\n",
              "    <tr>\n",
              "      <th>0</th>\n",
              "      <td>105.0</td>\n",
              "      <td>4.0</td>\n",
              "      <td>19.0</td>\n",
              "      <td>80.0</td>\n",
              "    </tr>\n",
              "    <tr>\n",
              "      <th>1</th>\n",
              "      <td>100.0</td>\n",
              "      <td>5.0</td>\n",
              "      <td>20.0</td>\n",
              "      <td>80.0</td>\n",
              "    </tr>\n",
              "  </tbody>\n",
              "</table>\n",
              "</div>"
            ],
            "text/plain": [
              "       pattes  poil  queue  ventre\n",
              "maman   100.0   5.0   20.0    80.0\n",
              "bebe     50.0   2.5   10.0    40.0\n",
              "papa    110.0   6.0   22.0    80.0\n",
              "0       105.0   4.0   19.0    80.0\n",
              "1       100.0   5.0   20.0    80.0"
            ]
          },
          "metadata": {
            "tags": []
          },
          "execution_count": 17
        }
      ]
    },
    {
      "cell_type": "code",
      "metadata": {
        "colab": {
          "base_uri": "https://localhost:8080/",
          "height": 175
        },
        "id": "TH5Ol4mmJ2rM",
        "outputId": "c84927da-0767-46e1-b9cb-7fdaebd30623"
      },
      "source": [
        "pandas_uniques = tous_les_pandas.drop_duplicates()\n",
        "pandas_uniques"
      ],
      "execution_count": 20,
      "outputs": [
        {
          "output_type": "execute_result",
          "data": {
            "text/html": [
              "<div>\n",
              "<style scoped>\n",
              "    .dataframe tbody tr th:only-of-type {\n",
              "        vertical-align: middle;\n",
              "    }\n",
              "\n",
              "    .dataframe tbody tr th {\n",
              "        vertical-align: top;\n",
              "    }\n",
              "\n",
              "    .dataframe thead th {\n",
              "        text-align: right;\n",
              "    }\n",
              "</style>\n",
              "<table border=\"1\" class=\"dataframe\">\n",
              "  <thead>\n",
              "    <tr style=\"text-align: right;\">\n",
              "      <th></th>\n",
              "      <th>pattes</th>\n",
              "      <th>poil</th>\n",
              "      <th>queue</th>\n",
              "      <th>ventre</th>\n",
              "    </tr>\n",
              "  </thead>\n",
              "  <tbody>\n",
              "    <tr>\n",
              "      <th>maman</th>\n",
              "      <td>100.0</td>\n",
              "      <td>5.0</td>\n",
              "      <td>20.0</td>\n",
              "      <td>80.0</td>\n",
              "    </tr>\n",
              "    <tr>\n",
              "      <th>bebe</th>\n",
              "      <td>50.0</td>\n",
              "      <td>2.5</td>\n",
              "      <td>10.0</td>\n",
              "      <td>40.0</td>\n",
              "    </tr>\n",
              "    <tr>\n",
              "      <th>papa</th>\n",
              "      <td>110.0</td>\n",
              "      <td>6.0</td>\n",
              "      <td>22.0</td>\n",
              "      <td>80.0</td>\n",
              "    </tr>\n",
              "    <tr>\n",
              "      <th>0</th>\n",
              "      <td>105.0</td>\n",
              "      <td>4.0</td>\n",
              "      <td>19.0</td>\n",
              "      <td>80.0</td>\n",
              "    </tr>\n",
              "  </tbody>\n",
              "</table>\n",
              "</div>"
            ],
            "text/plain": [
              "       pattes  poil  queue  ventre\n",
              "maman   100.0   5.0   20.0    80.0\n",
              "bebe     50.0   2.5   10.0    40.0\n",
              "papa    110.0   6.0   22.0    80.0\n",
              "0       105.0   4.0   19.0    80.0"
            ]
          },
          "metadata": {
            "tags": []
          },
          "execution_count": 20
        }
      ]
    },
    {
      "cell_type": "code",
      "metadata": {
        "colab": {
          "base_uri": "https://localhost:8080/"
        },
        "id": "eEfzHVJWKE6-",
        "outputId": "d7861e3e-ae53-4f70-d913-96124b10021e"
      },
      "source": [
        "# accéder aux noms des colonnes\n",
        "famille_panda_df.columns"
      ],
      "execution_count": 22,
      "outputs": [
        {
          "output_type": "execute_result",
          "data": {
            "text/plain": [
              "Index(['pattes', 'poil', 'queue', 'ventre', 'sexe'], dtype='object')"
            ]
          },
          "metadata": {
            "tags": []
          },
          "execution_count": 22
        }
      ]
    },
    {
      "cell_type": "code",
      "metadata": {
        "colab": {
          "base_uri": "https://localhost:8080/",
          "height": 143
        },
        "id": "NaONjxJ4KKR_",
        "outputId": "5d9bbc55-2ff2-42a2-ec89-6dc72e81fe90"
      },
      "source": [
        "# créer une nouvelle colonne, composée de chaînes de caractères\n",
        "famille_panda_df[\"sexe\"] = [\"f\", \"f\", \"m\"] \n",
        "famille_panda_df\n",
        "# la maman et le bébé sont des femelles, le papa est un mâle"
      ],
      "execution_count": 24,
      "outputs": [
        {
          "output_type": "execute_result",
          "data": {
            "text/html": [
              "<div>\n",
              "<style scoped>\n",
              "    .dataframe tbody tr th:only-of-type {\n",
              "        vertical-align: middle;\n",
              "    }\n",
              "\n",
              "    .dataframe tbody tr th {\n",
              "        vertical-align: top;\n",
              "    }\n",
              "\n",
              "    .dataframe thead th {\n",
              "        text-align: right;\n",
              "    }\n",
              "</style>\n",
              "<table border=\"1\" class=\"dataframe\">\n",
              "  <thead>\n",
              "    <tr style=\"text-align: right;\">\n",
              "      <th></th>\n",
              "      <th>pattes</th>\n",
              "      <th>poil</th>\n",
              "      <th>queue</th>\n",
              "      <th>ventre</th>\n",
              "      <th>sexe</th>\n",
              "    </tr>\n",
              "  </thead>\n",
              "  <tbody>\n",
              "    <tr>\n",
              "      <th>maman</th>\n",
              "      <td>100.0</td>\n",
              "      <td>5.0</td>\n",
              "      <td>20.0</td>\n",
              "      <td>80.0</td>\n",
              "      <td>f</td>\n",
              "    </tr>\n",
              "    <tr>\n",
              "      <th>bebe</th>\n",
              "      <td>50.0</td>\n",
              "      <td>2.5</td>\n",
              "      <td>10.0</td>\n",
              "      <td>40.0</td>\n",
              "      <td>f</td>\n",
              "    </tr>\n",
              "    <tr>\n",
              "      <th>papa</th>\n",
              "      <td>110.0</td>\n",
              "      <td>6.0</td>\n",
              "      <td>22.0</td>\n",
              "      <td>80.0</td>\n",
              "      <td>m</td>\n",
              "    </tr>\n",
              "  </tbody>\n",
              "</table>\n",
              "</div>"
            ],
            "text/plain": [
              "       pattes  poil  queue  ventre sexe\n",
              "maman   100.0   5.0   20.0    80.0    f\n",
              "bebe     50.0   2.5   10.0    40.0    f\n",
              "papa    110.0   6.0   22.0    80.0    m"
            ]
          },
          "metadata": {
            "tags": []
          },
          "execution_count": 24
        }
      ]
    },
    {
      "cell_type": "code",
      "metadata": {
        "colab": {
          "base_uri": "https://localhost:8080/"
        },
        "id": "XtPfBNn_KKiZ",
        "outputId": "ec445a1e-e812-4670-8369-bf72ee8dbfb1"
      },
      "source": [
        "# obtenir le nombre de lignes\n",
        "len(famille_panda_df)"
      ],
      "execution_count": 25,
      "outputs": [
        {
          "output_type": "execute_result",
          "data": {
            "text/plain": [
              "3"
            ]
          },
          "metadata": {
            "tags": []
          },
          "execution_count": 25
        }
      ]
    },
    {
      "cell_type": "markdown",
      "metadata": {
        "id": "T9aYEX2iH5XT"
      },
      "source": [
        ""
      ]
    }
  ]
}