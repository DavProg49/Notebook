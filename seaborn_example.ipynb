{
  "nbformat": 4,
  "nbformat_minor": 0,
  "metadata": {
    "kernelspec": {
      "display_name": "Python 3",
      "language": "python",
      "name": "python3"
    },
    "language_info": {
      "codemirror_mode": {
        "name": "ipython",
        "version": 3
      },
      "file_extension": ".py",
      "mimetype": "text/x-python",
      "name": "python",
      "nbconvert_exporter": "python",
      "pygments_lexer": "ipython3",
      "version": "3.8.5"
    },
    "colab": {
      "name": "seaborn_example.ipynb",
      "provenance": [],
      "collapsed_sections": [],
      "include_colab_link": true
    }
  },
  "cells": [
    {
      "cell_type": "markdown",
      "metadata": {
        "id": "view-in-github",
        "colab_type": "text"
      },
      "source": [
        "<a href=\"https://colab.research.google.com/github/DavProg49/Notebook/blob/main/seaborn_example.ipynb\" target=\"_parent\"><img src=\"https://colab.research.google.com/assets/colab-badge.svg\" alt=\"Open In Colab\"/></a>"
      ]
    },
    {
      "cell_type": "markdown",
      "metadata": {
        "id": "7BXE0kH_qXWs"
      },
      "source": [
        "Seaborn example :"
      ]
    },
    {
      "cell_type": "code",
      "metadata": {
        "id": "xg2MMzniqeWe"
      },
      "source": [
        "import seaborn as sns\n",
        "sns.set()\n",
        "\n",
        "x = np.linspace(0, 10, 500)\n",
        "y = np.random.randn(500)\n",
        "plt.plot(x,y)\n",
        "\n",
        "with sns.axes_style('white'):\n",
        "    sns.jointplot(x=\"petal_length\",y=\"petal_width\", data=iris, kind='reg')"
      ],
      "execution_count": null,
      "outputs": []
    },
    {
      "cell_type": "code",
      "metadata": {
        "id": "mprGEFCjqohI"
      },
      "source": [
        "sns.displot(y, kde=True);"
      ],
      "execution_count": null,
      "outputs": []
    },
    {
      "cell_type": "code",
      "metadata": {
        "id": "EoZMMJE4qkcb"
      },
      "source": [
        "iris = sns.load_dataset(\"iris\")\n",
        "iris.head()\n",
        "\n",
        "sns.pairplot(iris, hue='species', height=2.5);"
      ],
      "execution_count": null,
      "outputs": []
    },
    {
      "cell_type": "code",
      "metadata": {
        "id": "TO9UinN7qqSf"
      },
      "source": [
        "with sns.axes_style('white'):\n",
        "    sns.jointplot(x=\"petal_length\",y=\"petal_width\", data=iris, kind='reg')"
      ],
      "execution_count": null,
      "outputs": []
    }
  ]
}