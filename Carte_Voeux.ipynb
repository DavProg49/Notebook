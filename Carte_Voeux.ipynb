{
  "nbformat": 4,
  "nbformat_minor": 0,
  "metadata": {
    "colab": {
      "name": "Carte_Voeux.ipynb",
      "provenance": [],
      "collapsed_sections": [],
      "authorship_tag": "ABX9TyP7pmBZ0sgtfbWdUegFmJlp",
      "include_colab_link": true
    },
    "kernelspec": {
      "name": "python3",
      "display_name": "Python 3"
    }
  },
  "cells": [
    {
      "cell_type": "markdown",
      "metadata": {
        "id": "view-in-github",
        "colab_type": "text"
      },
      "source": [
        "<a href=\"https://colab.research.google.com/github/DavProg49/Notebook/blob/main/Carte_Voeux.ipynb\" target=\"_parent\"><img src=\"https://colab.research.google.com/assets/colab-badge.svg\" alt=\"Open In Colab\"/></a>"
      ]
    },
    {
      "cell_type": "markdown",
      "metadata": {
        "id": "Q-3dijUOX_bQ"
      },
      "source": [
        "**Creation de carte de voeux personnalisé**\n",
        "\n",
        "Une carte de voeux différente pour chaque semaine. \n",
        "Pour savoir combien en créer, on se base sur les données de naissance aux Etats-Unis\n",
        "\n",
        "1 - livraison d'un graphique qui représente le nombre de naissance pour chaque jour de la semaine pour les décenniers 1960, 1970, 1980\n",
        "\n",
        "2 - Nettoyage des données, algèbre linéaire. Traitement en utilisant la fonction to_datetime.\n",
        "*   Nettoyage de la colonne births.\n",
        "*   Conversion des colonnes day, month et year en datatime.\n",
        "*   Conversion en jour de semaine.\n",
        "*   L'agrégation doit être faite grâce à librairies Pandas.\n",
        "\n"
      ]
    },
    {
      "cell_type": "code",
      "metadata": {
        "colab": {
          "base_uri": "https://localhost:8080/",
          "height": 424
        },
        "id": "LAghJ-3qX2m4",
        "outputId": "08d012ec-670e-47fb-d435-fbbd7e8a4ed8"
      },
      "source": [
        "import pandas as pd\n",
        "import numpy as np\n",
        "%matplotlib inline\n",
        "import matplotlib.pyplot as plt\n",
        "from urllib import request\n",
        "\n",
        "request.urlretrieve (\"https://raw.githubusercontent.com/jakevdp/data-CDCbirths/master/births.csv\",\"births.csv\")\n",
        "df = pd.read_csv('births.csv',parse_dates=[['year','month','day']])\n",
        "df.columns =['Date','Genre','Naissance']\n",
        "df"
      ],
      "execution_count": 180,
      "outputs": [
        {
          "output_type": "execute_result",
          "data": {
            "text/html": [
              "<div>\n",
              "<style scoped>\n",
              "    .dataframe tbody tr th:only-of-type {\n",
              "        vertical-align: middle;\n",
              "    }\n",
              "\n",
              "    .dataframe tbody tr th {\n",
              "        vertical-align: top;\n",
              "    }\n",
              "\n",
              "    .dataframe thead th {\n",
              "        text-align: right;\n",
              "    }\n",
              "</style>\n",
              "<table border=\"1\" class=\"dataframe\">\n",
              "  <thead>\n",
              "    <tr style=\"text-align: right;\">\n",
              "      <th></th>\n",
              "      <th>Date</th>\n",
              "      <th>Genre</th>\n",
              "      <th>Naissance</th>\n",
              "    </tr>\n",
              "  </thead>\n",
              "  <tbody>\n",
              "    <tr>\n",
              "      <th>0</th>\n",
              "      <td>1969 1 1</td>\n",
              "      <td>F</td>\n",
              "      <td>4046</td>\n",
              "    </tr>\n",
              "    <tr>\n",
              "      <th>1</th>\n",
              "      <td>1969 1 1</td>\n",
              "      <td>M</td>\n",
              "      <td>4440</td>\n",
              "    </tr>\n",
              "    <tr>\n",
              "      <th>2</th>\n",
              "      <td>1969 1 2</td>\n",
              "      <td>F</td>\n",
              "      <td>4454</td>\n",
              "    </tr>\n",
              "    <tr>\n",
              "      <th>3</th>\n",
              "      <td>1969 1 2</td>\n",
              "      <td>M</td>\n",
              "      <td>4548</td>\n",
              "    </tr>\n",
              "    <tr>\n",
              "      <th>4</th>\n",
              "      <td>1969 1 3</td>\n",
              "      <td>F</td>\n",
              "      <td>4548</td>\n",
              "    </tr>\n",
              "    <tr>\n",
              "      <th>...</th>\n",
              "      <td>...</td>\n",
              "      <td>...</td>\n",
              "      <td>...</td>\n",
              "    </tr>\n",
              "    <tr>\n",
              "      <th>15542</th>\n",
              "      <td>2008 10 nan</td>\n",
              "      <td>M</td>\n",
              "      <td>183219</td>\n",
              "    </tr>\n",
              "    <tr>\n",
              "      <th>15543</th>\n",
              "      <td>2008 11 nan</td>\n",
              "      <td>F</td>\n",
              "      <td>158939</td>\n",
              "    </tr>\n",
              "    <tr>\n",
              "      <th>15544</th>\n",
              "      <td>2008 11 nan</td>\n",
              "      <td>M</td>\n",
              "      <td>165468</td>\n",
              "    </tr>\n",
              "    <tr>\n",
              "      <th>15545</th>\n",
              "      <td>2008 12 nan</td>\n",
              "      <td>F</td>\n",
              "      <td>173215</td>\n",
              "    </tr>\n",
              "    <tr>\n",
              "      <th>15546</th>\n",
              "      <td>2008 12 nan</td>\n",
              "      <td>M</td>\n",
              "      <td>181235</td>\n",
              "    </tr>\n",
              "  </tbody>\n",
              "</table>\n",
              "<p>15547 rows × 3 columns</p>\n",
              "</div>"
            ],
            "text/plain": [
              "              Date Genre  Naissance\n",
              "0         1969 1 1     F       4046\n",
              "1         1969 1 1     M       4440\n",
              "2         1969 1 2     F       4454\n",
              "3         1969 1 2     M       4548\n",
              "4         1969 1 3     F       4548\n",
              "...            ...   ...        ...\n",
              "15542  2008 10 nan     M     183219\n",
              "15543  2008 11 nan     F     158939\n",
              "15544  2008 11 nan     M     165468\n",
              "15545  2008 12 nan     F     173215\n",
              "15546  2008 12 nan     M     181235\n",
              "\n",
              "[15547 rows x 3 columns]"
            ]
          },
          "metadata": {
            "tags": []
          },
          "execution_count": 180
        }
      ]
    },
    {
      "cell_type": "code",
      "metadata": {
        "colab": {
          "base_uri": "https://localhost:8080/"
        },
        "id": "bvgPOGumKR5l",
        "outputId": "fb9429ef-d282-436e-fdec-9e99515bfde2"
      },
      "source": [
        "#analyse des types de colonnes :\n",
        "print(df.dtypes)"
      ],
      "execution_count": 181,
      "outputs": [
        {
          "output_type": "stream",
          "text": [
            "Date         object\n",
            "Genre        object\n",
            "Naissance     int64\n",
            "dtype: object\n"
          ],
          "name": "stdout"
        }
      ]
    },
    {
      "cell_type": "code",
      "metadata": {
        "colab": {
          "base_uri": "https://localhost:8080/",
          "height": 424
        },
        "id": "ylRCK6bHcVw9",
        "outputId": "cb1392d9-f844-4fe2-a5c0-f074a16b8f15"
      },
      "source": [
        "df[\"Date\"] = pd.to_datetime(df[\"Date\"],errors='coerce')\n",
        "df_clean = df.dropna()\n",
        "df_clean"
      ],
      "execution_count": 182,
      "outputs": [
        {
          "output_type": "execute_result",
          "data": {
            "text/html": [
              "<div>\n",
              "<style scoped>\n",
              "    .dataframe tbody tr th:only-of-type {\n",
              "        vertical-align: middle;\n",
              "    }\n",
              "\n",
              "    .dataframe tbody tr th {\n",
              "        vertical-align: top;\n",
              "    }\n",
              "\n",
              "    .dataframe thead th {\n",
              "        text-align: right;\n",
              "    }\n",
              "</style>\n",
              "<table border=\"1\" class=\"dataframe\">\n",
              "  <thead>\n",
              "    <tr style=\"text-align: right;\">\n",
              "      <th></th>\n",
              "      <th>Date</th>\n",
              "      <th>Genre</th>\n",
              "      <th>Naissance</th>\n",
              "    </tr>\n",
              "  </thead>\n",
              "  <tbody>\n",
              "    <tr>\n",
              "      <th>0</th>\n",
              "      <td>1969-01-01</td>\n",
              "      <td>F</td>\n",
              "      <td>4046</td>\n",
              "    </tr>\n",
              "    <tr>\n",
              "      <th>1</th>\n",
              "      <td>1969-01-01</td>\n",
              "      <td>M</td>\n",
              "      <td>4440</td>\n",
              "    </tr>\n",
              "    <tr>\n",
              "      <th>2</th>\n",
              "      <td>1969-01-02</td>\n",
              "      <td>F</td>\n",
              "      <td>4454</td>\n",
              "    </tr>\n",
              "    <tr>\n",
              "      <th>3</th>\n",
              "      <td>1969-01-02</td>\n",
              "      <td>M</td>\n",
              "      <td>4548</td>\n",
              "    </tr>\n",
              "    <tr>\n",
              "      <th>4</th>\n",
              "      <td>1969-01-03</td>\n",
              "      <td>F</td>\n",
              "      <td>4548</td>\n",
              "    </tr>\n",
              "    <tr>\n",
              "      <th>...</th>\n",
              "      <td>...</td>\n",
              "      <td>...</td>\n",
              "      <td>...</td>\n",
              "    </tr>\n",
              "    <tr>\n",
              "      <th>15062</th>\n",
              "      <td>1988-12-29</td>\n",
              "      <td>M</td>\n",
              "      <td>5944</td>\n",
              "    </tr>\n",
              "    <tr>\n",
              "      <th>15063</th>\n",
              "      <td>1988-12-30</td>\n",
              "      <td>F</td>\n",
              "      <td>5742</td>\n",
              "    </tr>\n",
              "    <tr>\n",
              "      <th>15064</th>\n",
              "      <td>1988-12-30</td>\n",
              "      <td>M</td>\n",
              "      <td>6095</td>\n",
              "    </tr>\n",
              "    <tr>\n",
              "      <th>15065</th>\n",
              "      <td>1988-12-31</td>\n",
              "      <td>F</td>\n",
              "      <td>4435</td>\n",
              "    </tr>\n",
              "    <tr>\n",
              "      <th>15066</th>\n",
              "      <td>1988-12-31</td>\n",
              "      <td>M</td>\n",
              "      <td>4698</td>\n",
              "    </tr>\n",
              "  </tbody>\n",
              "</table>\n",
              "<p>14610 rows × 3 columns</p>\n",
              "</div>"
            ],
            "text/plain": [
              "            Date Genre  Naissance\n",
              "0     1969-01-01     F       4046\n",
              "1     1969-01-01     M       4440\n",
              "2     1969-01-02     F       4454\n",
              "3     1969-01-02     M       4548\n",
              "4     1969-01-03     F       4548\n",
              "...          ...   ...        ...\n",
              "15062 1988-12-29     M       5944\n",
              "15063 1988-12-30     F       5742\n",
              "15064 1988-12-30     M       6095\n",
              "15065 1988-12-31     F       4435\n",
              "15066 1988-12-31     M       4698\n",
              "\n",
              "[14610 rows x 3 columns]"
            ]
          },
          "metadata": {
            "tags": []
          },
          "execution_count": 182
        }
      ]
    },
    {
      "cell_type": "code",
      "metadata": {
        "colab": {
          "base_uri": "https://localhost:8080/",
          "height": 528
        },
        "id": "qAM3SXH5kSc6",
        "outputId": "a8c4838d-d20f-458a-e84d-532d05a8fa38"
      },
      "source": [
        "df_clean.loc[:,'Jour'] = df_clean.loc[:,'Date'].dt.weekday\n",
        "df_clean"
      ],
      "execution_count": 195,
      "outputs": [
        {
          "output_type": "stream",
          "text": [
            "/usr/local/lib/python3.6/dist-packages/pandas/core/indexing.py:1743: SettingWithCopyWarning: \n",
            "A value is trying to be set on a copy of a slice from a DataFrame.\n",
            "Try using .loc[row_indexer,col_indexer] = value instead\n",
            "\n",
            "See the caveats in the documentation: https://pandas.pydata.org/pandas-docs/stable/user_guide/indexing.html#returning-a-view-versus-a-copy\n",
            "  isetter(ilocs[0], value)\n"
          ],
          "name": "stderr"
        },
        {
          "output_type": "execute_result",
          "data": {
            "text/html": [
              "<div>\n",
              "<style scoped>\n",
              "    .dataframe tbody tr th:only-of-type {\n",
              "        vertical-align: middle;\n",
              "    }\n",
              "\n",
              "    .dataframe tbody tr th {\n",
              "        vertical-align: top;\n",
              "    }\n",
              "\n",
              "    .dataframe thead th {\n",
              "        text-align: right;\n",
              "    }\n",
              "</style>\n",
              "<table border=\"1\" class=\"dataframe\">\n",
              "  <thead>\n",
              "    <tr style=\"text-align: right;\">\n",
              "      <th></th>\n",
              "      <th>Date</th>\n",
              "      <th>Genre</th>\n",
              "      <th>Naissance</th>\n",
              "      <th>Jour</th>\n",
              "      <th>Decade</th>\n",
              "    </tr>\n",
              "  </thead>\n",
              "  <tbody>\n",
              "    <tr>\n",
              "      <th>0</th>\n",
              "      <td>1969-01-01</td>\n",
              "      <td>F</td>\n",
              "      <td>4046</td>\n",
              "      <td>2</td>\n",
              "      <td>1960</td>\n",
              "    </tr>\n",
              "    <tr>\n",
              "      <th>1</th>\n",
              "      <td>1969-01-01</td>\n",
              "      <td>M</td>\n",
              "      <td>4440</td>\n",
              "      <td>2</td>\n",
              "      <td>1960</td>\n",
              "    </tr>\n",
              "    <tr>\n",
              "      <th>2</th>\n",
              "      <td>1969-01-02</td>\n",
              "      <td>F</td>\n",
              "      <td>4454</td>\n",
              "      <td>3</td>\n",
              "      <td>1960</td>\n",
              "    </tr>\n",
              "    <tr>\n",
              "      <th>3</th>\n",
              "      <td>1969-01-02</td>\n",
              "      <td>M</td>\n",
              "      <td>4548</td>\n",
              "      <td>3</td>\n",
              "      <td>1960</td>\n",
              "    </tr>\n",
              "    <tr>\n",
              "      <th>4</th>\n",
              "      <td>1969-01-03</td>\n",
              "      <td>F</td>\n",
              "      <td>4548</td>\n",
              "      <td>4</td>\n",
              "      <td>1960</td>\n",
              "    </tr>\n",
              "    <tr>\n",
              "      <th>...</th>\n",
              "      <td>...</td>\n",
              "      <td>...</td>\n",
              "      <td>...</td>\n",
              "      <td>...</td>\n",
              "      <td>...</td>\n",
              "    </tr>\n",
              "    <tr>\n",
              "      <th>15062</th>\n",
              "      <td>1988-12-29</td>\n",
              "      <td>M</td>\n",
              "      <td>5944</td>\n",
              "      <td>3</td>\n",
              "      <td>1980</td>\n",
              "    </tr>\n",
              "    <tr>\n",
              "      <th>15063</th>\n",
              "      <td>1988-12-30</td>\n",
              "      <td>F</td>\n",
              "      <td>5742</td>\n",
              "      <td>4</td>\n",
              "      <td>1980</td>\n",
              "    </tr>\n",
              "    <tr>\n",
              "      <th>15064</th>\n",
              "      <td>1988-12-30</td>\n",
              "      <td>M</td>\n",
              "      <td>6095</td>\n",
              "      <td>4</td>\n",
              "      <td>1980</td>\n",
              "    </tr>\n",
              "    <tr>\n",
              "      <th>15065</th>\n",
              "      <td>1988-12-31</td>\n",
              "      <td>F</td>\n",
              "      <td>4435</td>\n",
              "      <td>5</td>\n",
              "      <td>1980</td>\n",
              "    </tr>\n",
              "    <tr>\n",
              "      <th>15066</th>\n",
              "      <td>1988-12-31</td>\n",
              "      <td>M</td>\n",
              "      <td>4698</td>\n",
              "      <td>5</td>\n",
              "      <td>1980</td>\n",
              "    </tr>\n",
              "  </tbody>\n",
              "</table>\n",
              "<p>14610 rows × 5 columns</p>\n",
              "</div>"
            ],
            "text/plain": [
              "            Date Genre  Naissance  Jour  Decade\n",
              "0     1969-01-01     F       4046     2    1960\n",
              "1     1969-01-01     M       4440     2    1960\n",
              "2     1969-01-02     F       4454     3    1960\n",
              "3     1969-01-02     M       4548     3    1960\n",
              "4     1969-01-03     F       4548     4    1960\n",
              "...          ...   ...        ...   ...     ...\n",
              "15062 1988-12-29     M       5944     3    1980\n",
              "15063 1988-12-30     F       5742     4    1980\n",
              "15064 1988-12-30     M       6095     4    1980\n",
              "15065 1988-12-31     F       4435     5    1980\n",
              "15066 1988-12-31     M       4698     5    1980\n",
              "\n",
              "[14610 rows x 5 columns]"
            ]
          },
          "metadata": {
            "tags": []
          },
          "execution_count": 195
        }
      ]
    },
    {
      "cell_type": "code",
      "metadata": {
        "colab": {
          "base_uri": "https://localhost:8080/",
          "height": 528
        },
        "id": "L_gtlFU1aYnG",
        "outputId": "9d60fa20-8ce9-48c0-a96d-6ab6e1fc741f"
      },
      "source": [
        " # on a une table avec seulement les gens nées dans les années 60\n",
        "df_clean[\"Decade\"] = ((df_clean['Date'].dt.year/10).astype(float).astype(int))*10\n",
        "df_clean"
      ],
      "execution_count": 196,
      "outputs": [
        {
          "output_type": "stream",
          "text": [
            "/usr/local/lib/python3.6/dist-packages/ipykernel_launcher.py:2: SettingWithCopyWarning: \n",
            "A value is trying to be set on a copy of a slice from a DataFrame.\n",
            "Try using .loc[row_indexer,col_indexer] = value instead\n",
            "\n",
            "See the caveats in the documentation: https://pandas.pydata.org/pandas-docs/stable/user_guide/indexing.html#returning-a-view-versus-a-copy\n",
            "  \n"
          ],
          "name": "stderr"
        },
        {
          "output_type": "execute_result",
          "data": {
            "text/html": [
              "<div>\n",
              "<style scoped>\n",
              "    .dataframe tbody tr th:only-of-type {\n",
              "        vertical-align: middle;\n",
              "    }\n",
              "\n",
              "    .dataframe tbody tr th {\n",
              "        vertical-align: top;\n",
              "    }\n",
              "\n",
              "    .dataframe thead th {\n",
              "        text-align: right;\n",
              "    }\n",
              "</style>\n",
              "<table border=\"1\" class=\"dataframe\">\n",
              "  <thead>\n",
              "    <tr style=\"text-align: right;\">\n",
              "      <th></th>\n",
              "      <th>Date</th>\n",
              "      <th>Genre</th>\n",
              "      <th>Naissance</th>\n",
              "      <th>Jour</th>\n",
              "      <th>Decade</th>\n",
              "    </tr>\n",
              "  </thead>\n",
              "  <tbody>\n",
              "    <tr>\n",
              "      <th>0</th>\n",
              "      <td>1969-01-01</td>\n",
              "      <td>F</td>\n",
              "      <td>4046</td>\n",
              "      <td>2</td>\n",
              "      <td>1960</td>\n",
              "    </tr>\n",
              "    <tr>\n",
              "      <th>1</th>\n",
              "      <td>1969-01-01</td>\n",
              "      <td>M</td>\n",
              "      <td>4440</td>\n",
              "      <td>2</td>\n",
              "      <td>1960</td>\n",
              "    </tr>\n",
              "    <tr>\n",
              "      <th>2</th>\n",
              "      <td>1969-01-02</td>\n",
              "      <td>F</td>\n",
              "      <td>4454</td>\n",
              "      <td>3</td>\n",
              "      <td>1960</td>\n",
              "    </tr>\n",
              "    <tr>\n",
              "      <th>3</th>\n",
              "      <td>1969-01-02</td>\n",
              "      <td>M</td>\n",
              "      <td>4548</td>\n",
              "      <td>3</td>\n",
              "      <td>1960</td>\n",
              "    </tr>\n",
              "    <tr>\n",
              "      <th>4</th>\n",
              "      <td>1969-01-03</td>\n",
              "      <td>F</td>\n",
              "      <td>4548</td>\n",
              "      <td>4</td>\n",
              "      <td>1960</td>\n",
              "    </tr>\n",
              "    <tr>\n",
              "      <th>...</th>\n",
              "      <td>...</td>\n",
              "      <td>...</td>\n",
              "      <td>...</td>\n",
              "      <td>...</td>\n",
              "      <td>...</td>\n",
              "    </tr>\n",
              "    <tr>\n",
              "      <th>15062</th>\n",
              "      <td>1988-12-29</td>\n",
              "      <td>M</td>\n",
              "      <td>5944</td>\n",
              "      <td>3</td>\n",
              "      <td>1980</td>\n",
              "    </tr>\n",
              "    <tr>\n",
              "      <th>15063</th>\n",
              "      <td>1988-12-30</td>\n",
              "      <td>F</td>\n",
              "      <td>5742</td>\n",
              "      <td>4</td>\n",
              "      <td>1980</td>\n",
              "    </tr>\n",
              "    <tr>\n",
              "      <th>15064</th>\n",
              "      <td>1988-12-30</td>\n",
              "      <td>M</td>\n",
              "      <td>6095</td>\n",
              "      <td>4</td>\n",
              "      <td>1980</td>\n",
              "    </tr>\n",
              "    <tr>\n",
              "      <th>15065</th>\n",
              "      <td>1988-12-31</td>\n",
              "      <td>F</td>\n",
              "      <td>4435</td>\n",
              "      <td>5</td>\n",
              "      <td>1980</td>\n",
              "    </tr>\n",
              "    <tr>\n",
              "      <th>15066</th>\n",
              "      <td>1988-12-31</td>\n",
              "      <td>M</td>\n",
              "      <td>4698</td>\n",
              "      <td>5</td>\n",
              "      <td>1980</td>\n",
              "    </tr>\n",
              "  </tbody>\n",
              "</table>\n",
              "<p>14610 rows × 5 columns</p>\n",
              "</div>"
            ],
            "text/plain": [
              "            Date Genre  Naissance  Jour  Decade\n",
              "0     1969-01-01     F       4046     2    1960\n",
              "1     1969-01-01     M       4440     2    1960\n",
              "2     1969-01-02     F       4454     3    1960\n",
              "3     1969-01-02     M       4548     3    1960\n",
              "4     1969-01-03     F       4548     4    1960\n",
              "...          ...   ...        ...   ...     ...\n",
              "15062 1988-12-29     M       5944     3    1980\n",
              "15063 1988-12-30     F       5742     4    1980\n",
              "15064 1988-12-30     M       6095     4    1980\n",
              "15065 1988-12-31     F       4435     5    1980\n",
              "15066 1988-12-31     M       4698     5    1980\n",
              "\n",
              "[14610 rows x 5 columns]"
            ]
          },
          "metadata": {
            "tags": []
          },
          "execution_count": 196
        }
      ]
    },
    {
      "cell_type": "code",
      "metadata": {
        "colab": {
          "base_uri": "https://localhost:8080/",
          "height": 514
        },
        "id": "TsyUmK1JJCMI",
        "outputId": "974066c7-7e9f-4602-9a72-529fc591a13b"
      },
      "source": [
        "# affichage des données, on vient calculer la moyenne des naissances par jour pour chaque décade\n",
        "fig=plt.figure(figsize=(11,8))\n",
        "births_per_day=df_clean.pivot_table('Naissance', index='Jour',columns='Decade', aggfunc='mean')\n",
        "births_per_day.plot(figsize=(11,8))\n",
        "plt.gca().set_xticklabels(['','Lun','Mar','Mer','Jeu','Ven','Sam','Dim'])\n",
        "plt.ylabel('Births per day');"
      ],
      "execution_count": 197,
      "outputs": [
        {
          "output_type": "display_data",
          "data": {
            "text/plain": [
              "<Figure size 792x576 with 0 Axes>"
            ]
          },
          "metadata": {
            "tags": []
          }
        },
        {
          "output_type": "display_data",
          "data": {
            "image/png": "[encoded data removed]",
            "text/plain": [
              "<Figure size 792x576 with 1 Axes>"
            ]
          },
          "metadata": {
            "tags": [],
            "needs_background": "light"
          }
        }
      ]
    },
    {
      "cell_type": "code",
      "metadata": {
        "colab": {
          "base_uri": "https://localhost:8080/",
          "height": 300
        },
        "id": "Vyy-qHd1qlnp",
        "outputId": "74d1963e-dbae-43a0-8378-176545cc3cac"
      },
      "source": [
        "births_per_day"
      ],
      "execution_count": 194,
      "outputs": [
        {
          "output_type": "execute_result",
          "data": {
            "text/html": [
              "<div>\n",
              "<style scoped>\n",
              "    .dataframe tbody tr th:only-of-type {\n",
              "        vertical-align: middle;\n",
              "    }\n",
              "\n",
              "    .dataframe tbody tr th {\n",
              "        vertical-align: top;\n",
              "    }\n",
              "\n",
              "    .dataframe thead th {\n",
              "        text-align: right;\n",
              "    }\n",
              "</style>\n",
              "<table border=\"1\" class=\"dataframe\">\n",
              "  <thead>\n",
              "    <tr style=\"text-align: right;\">\n",
              "      <th>Decade</th>\n",
              "      <th>1960</th>\n",
              "      <th>1970</th>\n",
              "      <th>1980</th>\n",
              "    </tr>\n",
              "    <tr>\n",
              "      <th>Jour</th>\n",
              "      <th></th>\n",
              "      <th></th>\n",
              "      <th></th>\n",
              "    </tr>\n",
              "  </thead>\n",
              "  <tbody>\n",
              "    <tr>\n",
              "      <th>1</th>\n",
              "      <td>5063.826923</td>\n",
              "      <td>4689.097701</td>\n",
              "      <td>5276.907249</td>\n",
              "    </tr>\n",
              "    <tr>\n",
              "      <th>2</th>\n",
              "      <td>5286.096154</td>\n",
              "      <td>4885.252399</td>\n",
              "      <td>5503.842553</td>\n",
              "    </tr>\n",
              "    <tr>\n",
              "      <th>3</th>\n",
              "      <td>5074.622642</td>\n",
              "      <td>4750.376200</td>\n",
              "      <td>5367.642553</td>\n",
              "    </tr>\n",
              "    <tr>\n",
              "      <th>4</th>\n",
              "      <td>4978.288462</td>\n",
              "      <td>4696.923372</td>\n",
              "      <td>5333.485106</td>\n",
              "    </tr>\n",
              "    <tr>\n",
              "      <th>5</th>\n",
              "      <td>5107.884615</td>\n",
              "      <td>4782.095785</td>\n",
              "      <td>5393.087234</td>\n",
              "    </tr>\n",
              "    <tr>\n",
              "      <th>6</th>\n",
              "      <td>4651.057692</td>\n",
              "      <td>4207.784483</td>\n",
              "      <td>4483.901064</td>\n",
              "    </tr>\n",
              "    <tr>\n",
              "      <th>7</th>\n",
              "      <td>4342.346154</td>\n",
              "      <td>3979.278736</td>\n",
              "      <td>4308.120469</td>\n",
              "    </tr>\n",
              "  </tbody>\n",
              "</table>\n",
              "</div>"
            ],
            "text/plain": [
              "Decade         1960         1970         1980\n",
              "Jour                                         \n",
              "1       5063.826923  4689.097701  5276.907249\n",
              "2       5286.096154  4885.252399  5503.842553\n",
              "3       5074.622642  4750.376200  5367.642553\n",
              "4       4978.288462  4696.923372  5333.485106\n",
              "5       5107.884615  4782.095785  5393.087234\n",
              "6       4651.057692  4207.784483  4483.901064\n",
              "7       4342.346154  3979.278736  4308.120469"
            ]
          },
          "metadata": {
            "tags": []
          },
          "execution_count": 194
        }
      ]
    },
    {
      "cell_type": "code",
      "metadata": {
        "id": "LF2LYSGVsxJ3"
      },
      "source": [
        ""
      ],
      "execution_count": null,
      "outputs": []
    }
  ]
}