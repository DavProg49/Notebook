{
  "nbformat": 4,
  "nbformat_minor": 0,
  "metadata": {
    "colab": {
      "name": "numpy_ex.ipynb",
      "provenance": [],
      "collapsed_sections": [],
      "authorship_tag": "ABX9TyN+Q85hQyCyYDRdRtTvetVO",
      "include_colab_link": true
    },
    "kernelspec": {
      "name": "python3",
      "display_name": "Python 3"
    }
  },
  "cells": [
    {
      "cell_type": "markdown",
      "metadata": {
        "id": "view-in-github",
        "colab_type": "text"
      },
      "source": [
        "<a href=\"https://colab.research.google.com/github/DavProg49/Notebook/blob/main/numpy_ex.ipynb\" target=\"_parent\"><img src=\"https://colab.research.google.com/assets/colab-badge.svg\" alt=\"Open In Colab\"/></a>"
      ]
    },
    {
      "cell_type": "markdown",
      "metadata": {
        "id": "GszeX282sv5X"
      },
      "source": [
        "Numpy exemple :"
      ]
    },
    {
      "cell_type": "code",
      "metadata": {
        "colab": {
          "base_uri": "https://localhost:8080/"
        },
        "id": "LSnIvwgHs1Rz",
        "outputId": "595c7b68-112a-4d12-fec6-a6646d2dc906"
      },
      "source": [
        "import numpy as np\n",
        "\n",
        "# Tableau d'entiers:\n",
        "np.array([1, 4, 2, 5, 3])"
      ],
      "execution_count": null,
      "outputs": [
        {
          "output_type": "execute_result",
          "data": {
            "text/plain": [
              "array([1, 4, 2, 5, 3])"
            ]
          },
          "metadata": {
            "tags": []
          },
          "execution_count": 1
        }
      ]
    },
    {
      "cell_type": "code",
      "metadata": {
        "colab": {
          "base_uri": "https://localhost:8080/"
        },
        "id": "u1hJdPQps6Um",
        "outputId": "2a87850c-8ade-482c-e368-2fa2cfee4d98"
      },
      "source": [
        "# tableau de flottant (spécification du type)\n",
        "np.array([1, 2, 3, 4], dtype='float32')\n"
      ],
      "execution_count": null,
      "outputs": [
        {
          "output_type": "execute_result",
          "data": {
            "text/plain": [
              "array([1., 2., 3., 4.], dtype=float32)"
            ]
          },
          "metadata": {
            "tags": []
          },
          "execution_count": 2
        }
      ]
    },
    {
      "cell_type": "code",
      "metadata": {
        "colab": {
          "base_uri": "https://localhost:8080/"
        },
        "id": "AVXrlehps9vG",
        "outputId": "16bbb90c-6910-4e66-cc05-a8b5ab66086e"
      },
      "source": [
        "# Une liste de listes est transformée en un tableau multi-dimensionnel\n",
        "np.array([range(i, i + 3) for i in [2, 4, 6]])"
      ],
      "execution_count": null,
      "outputs": [
        {
          "output_type": "execute_result",
          "data": {
            "text/plain": [
              "array([[2, 3, 4],\n",
              "       [4, 5, 6],\n",
              "       [6, 7, 8]])"
            ]
          },
          "metadata": {
            "tags": []
          },
          "execution_count": 3
        }
      ]
    },
    {
      "cell_type": "code",
      "metadata": {
        "colab": {
          "base_uri": "https://localhost:8080/"
        },
        "id": "wADFNXxCs_7Q",
        "outputId": "e7a9e535-a106-4353-b529-33af2bbdb0e1"
      },
      "source": [
        "# Un tableau de longueur 10, rempli d'entiers qui valent 0\n",
        "np.zeros(10, dtype=int)\n"
      ],
      "execution_count": null,
      "outputs": [
        {
          "output_type": "execute_result",
          "data": {
            "text/plain": [
              "array([0, 0, 0, 0, 0, 0, 0, 0, 0, 0])"
            ]
          },
          "metadata": {
            "tags": []
          },
          "execution_count": 4
        }
      ]
    },
    {
      "cell_type": "code",
      "metadata": {
        "colab": {
          "base_uri": "https://localhost:8080/"
        },
        "id": "bGeJUT8CtCmO",
        "outputId": "0d85d066-d3a7-438c-bfae-4c655fed9b2e"
      },
      "source": [
        "# Un tableau de taille 3x5 rempli de nombres à virgule flottante de valeur 1\n",
        "np.ones((3, 5), dtype=float)"
      ],
      "execution_count": null,
      "outputs": [
        {
          "output_type": "execute_result",
          "data": {
            "text/plain": [
              "array([[1., 1., 1., 1., 1.],\n",
              "       [1., 1., 1., 1., 1.],\n",
              "       [1., 1., 1., 1., 1.]])"
            ]
          },
          "metadata": {
            "tags": []
          },
          "execution_count": 5
        }
      ]
    },
    {
      "cell_type": "code",
      "metadata": {
        "colab": {
          "base_uri": "https://localhost:8080/"
        },
        "id": "wKBdKUy5tERw",
        "outputId": "f3a6c8bb-f37e-411c-df5c-319106bb3e0b"
      },
      "source": [
        "# Un tableau 3x5 rempli de 3,14\n",
        "np.full((3, 5), 3.14)"
      ],
      "execution_count": null,
      "outputs": [
        {
          "output_type": "execute_result",
          "data": {
            "text/plain": [
              "array([[3.14, 3.14, 3.14, 3.14, 3.14],\n",
              "       [3.14, 3.14, 3.14, 3.14, 3.14],\n",
              "       [3.14, 3.14, 3.14, 3.14, 3.14]])"
            ]
          },
          "metadata": {
            "tags": []
          },
          "execution_count": 6
        }
      ]
    },
    {
      "cell_type": "code",
      "metadata": {
        "colab": {
          "base_uri": "https://localhost:8080/"
        },
        "id": "fnBOtZuCtGEI",
        "outputId": "c2389f3a-2e05-46e0-e733-32802c20b31f"
      },
      "source": [
        "# Un tableau rempli d'une séquence linéaire\n",
        "# commençant à 0 et qui se termine à 20, avec un pas de 2\n",
        "np.arange(0, 20, 2)"
      ],
      "execution_count": null,
      "outputs": [
        {
          "output_type": "execute_result",
          "data": {
            "text/plain": [
              "array([ 0,  2,  4,  6,  8, 10, 12, 14, 16, 18])"
            ]
          },
          "metadata": {
            "tags": []
          },
          "execution_count": 7
        }
      ]
    },
    {
      "cell_type": "code",
      "metadata": {
        "colab": {
          "base_uri": "https://localhost:8080/"
        },
        "id": "c4_0A9b6tHp2",
        "outputId": "fe3f7846-5b8c-4f74-f511-3c50ef831ea1"
      },
      "source": [
        "# Un tableau de 5 valeurs, espacées uniformément entre 0 et 1\n",
        "np.linspace(0, 1, 5)"
      ],
      "execution_count": null,
      "outputs": [
        {
          "output_type": "execute_result",
          "data": {
            "text/plain": [
              "array([0.  , 0.25, 0.5 , 0.75, 1.  ])"
            ]
          },
          "metadata": {
            "tags": []
          },
          "execution_count": 8
        }
      ]
    },
    {
      "cell_type": "code",
      "metadata": {
        "colab": {
          "base_uri": "https://localhost:8080/"
        },
        "id": "LXM2W-NWtJLE",
        "outputId": "fb6da73d-de69-4236-cbb7-df754d723617"
      },
      "source": [
        "# Celle-ci vous la conaissez déjà! Essayez aussi \"randint\" et \"normal\"\n",
        "np.random.random((3, 3))"
      ],
      "execution_count": null,
      "outputs": [
        {
          "output_type": "execute_result",
          "data": {
            "text/plain": [
              "array([[0.32659512, 0.54283938, 0.72265218],\n",
              "       [0.1737472 , 0.39012091, 0.07996026],\n",
              "       [0.70475421, 0.15479466, 0.13257447]])"
            ]
          },
          "metadata": {
            "tags": []
          },
          "execution_count": 9
        }
      ]
    },
    {
      "cell_type": "code",
      "metadata": {
        "colab": {
          "base_uri": "https://localhost:8080/"
        },
        "id": "TdF8ahaXtKo4",
        "outputId": "6dc12170-d7e4-4954-ec6b-449509fe158b"
      },
      "source": [
        "# La matrice identité de taille 3x3 \n",
        "# (matrice identité : https://fr.wikipedia.org/wiki/Matrice_identit%C3%A9)\n",
        "np.eye(3)"
      ],
      "execution_count": null,
      "outputs": [
        {
          "output_type": "execute_result",
          "data": {
            "text/plain": [
              "array([[1., 0., 0.],\n",
              "       [0., 1., 0.],\n",
              "       [0., 0., 1.]])"
            ]
          },
          "metadata": {
            "tags": []
          },
          "execution_count": 10
        }
      ]
    },
    {
      "cell_type": "code",
      "metadata": {
        "colab": {
          "base_uri": "https://localhost:8080/"
        },
        "id": "-grzrlKvtLsK",
        "outputId": "c6923cc8-4fc0-4f2c-918e-4d1ae215d039"
      },
      "source": [
        "np.random.seed(0)\n",
        "x1 = np.random.randint(10, size=6)  # Tableau de dimension 1\n",
        "print(\"nombre de dimensions de x1: \", x1.ndim)\n",
        "print(\"forme de x1: \", x1.shape)\n",
        "print(\"taille de x1: \", x1.size)\n",
        "print(\"type de x1: \", x1.dtype)"
      ],
      "execution_count": null,
      "outputs": [
        {
          "output_type": "stream",
          "text": [
            "nombre de dimensions de x1:  1\n",
            "forme de x1:  (6,)\n",
            "taille de x1:  6\n",
            "type de x1:  int64\n"
          ],
          "name": "stdout"
        }
      ]
    },
    {
      "cell_type": "code",
      "metadata": {
        "colab": {
          "base_uri": "https://localhost:8080/"
        },
        "id": "E73DlrGOtSeQ",
        "outputId": "f379fb95-124b-42aa-ad75-93bb3d192340"
      },
      "source": [
        "#Accéder à un élément :\n",
        "print(x1)\n",
        "\n",
        "# Pour accéder au premier élément\n",
        "print(x1[0])\n",
        "\n",
        "# Pour accéder au dernier élément\n",
        "print(x1[-1])"
      ],
      "execution_count": null,
      "outputs": [
        {
          "output_type": "stream",
          "text": [
            "[5 0 3 3 7 9]\n",
            "5\n",
            "9\n"
          ],
          "name": "stdout"
        }
      ]
    },
    {
      "cell_type": "code",
      "metadata": {
        "colab": {
          "base_uri": "https://localhost:8080/"
        },
        "id": "pkR4LN4EtWGa",
        "outputId": "6bc383fe-642c-46b1-eb44-5db334be4fd1"
      },
      "source": [
        "x2 = np.random.randint(10, size=(3, 4))  # Tableau de dimension 2\n",
        "print(x2[0,1])"
      ],
      "execution_count": null,
      "outputs": [
        {
          "output_type": "stream",
          "text": [
            "5\n"
          ],
          "name": "stdout"
        }
      ]
    },
    {
      "cell_type": "code",
      "metadata": {
        "colab": {
          "base_uri": "https://localhost:8080/"
        },
        "id": "Ut2E3C3utZoY",
        "outputId": "6b4dc23c-c34c-4bee-c1af-20ea27a7e9c7"
      },
      "source": [
        "# On peut aussi modifier les valeurs\n",
        "x1[1] = \"1000\"\n",
        "print(x1)"
      ],
      "execution_count": null,
      "outputs": [
        {
          "output_type": "stream",
          "text": [
            "[   5 1000    3    3    7    9]\n"
          ],
          "name": "stdout"
        }
      ]
    },
    {
      "cell_type": "code",
      "metadata": {
        "colab": {
          "base_uri": "https://localhost:8080/"
        },
        "id": "PM52JaLatczE",
        "outputId": "3db68c79-17fc-4c72-8c0b-a59cc13acd0f"
      },
      "source": [
        "# Attention au type\n",
        "x1[1] = 3.14\n",
        "print(x1)"
      ],
      "execution_count": null,
      "outputs": [
        {
          "output_type": "stream",
          "text": [
            "[5 3 3 3 7 9]\n"
          ],
          "name": "stdout"
        }
      ]
    },
    {
      "cell_type": "code",
      "metadata": {
        "colab": {
          "base_uri": "https://localhost:8080/"
        },
        "id": "NA6IJnsdtd_r",
        "outputId": "a7b2041a-c85c-4204-b598-7c719eeee7aa"
      },
      "source": [
        "print(x1[:5])  # Les cinq premiers éléments\n",
        "\n",
        "print(x1[5:])  # Les éléments à partir de l'index 5\n",
        "\n",
        "print(x1[::2])  # Un élément sur deux"
      ],
      "execution_count": null,
      "outputs": [
        {
          "output_type": "stream",
          "text": [
            "[5 3 3 3 7]\n",
            "[9]\n",
            "[5 3 7]\n"
          ],
          "name": "stdout"
        }
      ]
    },
    {
      "cell_type": "code",
      "metadata": {
        "colab": {
          "base_uri": "https://localhost:8080/"
        },
        "id": "KbuV3SjYtiMs",
        "outputId": "a0d32830-531e-4f99-f535-9e8e659425ec"
      },
      "source": [
        "x = np.array([1, 2, 3])\n",
        "y = np.array([3, 2, 1])\n",
        "np.concatenate([x, y])\n"
      ],
      "execution_count": null,
      "outputs": [
        {
          "output_type": "execute_result",
          "data": {
            "text/plain": [
              "array([1, 2, 3, 3, 2, 1])"
            ]
          },
          "metadata": {
            "tags": []
          },
          "execution_count": 18
        }
      ]
    },
    {
      "cell_type": "code",
      "metadata": {
        "colab": {
          "base_uri": "https://localhost:8080/"
        },
        "id": "yaludX8xtlJp",
        "outputId": "d6f13b24-86ce-411c-e729-facb5a997814"
      },
      "source": [
        "x = np.array([1, 2, 3])\n",
        "grid = np.array([[9, 8, 7],\n",
        "                 [6, 5, 4]])\n",
        "\n",
        "print(np.vstack([x, grid]))"
      ],
      "execution_count": null,
      "outputs": [
        {
          "output_type": "stream",
          "text": [
            "[[1 2 3]\n",
            " [9 8 7]\n",
            " [6 5 4]]\n"
          ],
          "name": "stdout"
        }
      ]
    },
    {
      "cell_type": "code",
      "metadata": {
        "colab": {
          "base_uri": "https://localhost:8080/"
        },
        "id": "m2A0f6bZto93",
        "outputId": "f6ff1621-1d2d-4f2a-a9d0-7fa520ea4993"
      },
      "source": [
        "#fonctions universelles :\n",
        "# Il y a tout d'abord des opération mathématiques simples\n",
        "x = np.arange(4)\n",
        "print(\"x     =\", x)\n",
        "print(\"x + 5 =\", x + 5)\n",
        "print(\"x - 5 =\", x - 5)\n",
        "print(\"x * 2 =\", x * 2)\n",
        "print(\"x / 2 =\", x / 2)\n",
        "print(\"x // 2 =\", x // 2)  # Division avec arrondi"
      ],
      "execution_count": null,
      "outputs": [
        {
          "output_type": "stream",
          "text": [
            "x     = [0 1 2 3]\n",
            "x + 5 = [5 6 7 8]\n",
            "x - 5 = [-5 -4 -3 -2]\n",
            "x * 2 = [0 2 4 6]\n",
            "x / 2 = [0.  0.5 1.  1.5]\n",
            "x // 2 = [0 0 1 1]\n"
          ],
          "name": "stdout"
        }
      ]
    },
    {
      "cell_type": "code",
      "metadata": {
        "colab": {
          "base_uri": "https://localhost:8080/"
        },
        "id": "v-e4GFVMtuZi",
        "outputId": "fa1a057f-e8a0-4ac3-dc4b-ef1926bdfa76"
      },
      "source": [
        "x = [-2, -1, 1, 2]\n",
        "print(\"La valeur absolue: \", np.abs(x))\n",
        "print(\"Exponentielle: \", np.exp(x))\n",
        "print(\"Logarithme: \", np.log(np.abs(x)))"
      ],
      "execution_count": null,
      "outputs": [
        {
          "output_type": "stream",
          "text": [
            "La valeur absolue:  [2 1 1 2]\n",
            "Exponentielle:  [0.13533528 0.36787944 2.71828183 7.3890561 ]\n",
            "Logarithme:  [0.69314718 0.         0.         0.69314718]\n"
          ],
          "name": "stdout"
        }
      ]
    },
    {
      "cell_type": "code",
      "metadata": {
        "colab": {
          "base_uri": "https://localhost:8080/"
        },
        "id": "qcz6MGjwtv5_",
        "outputId": "90a7f1fa-4cde-475c-cb98-0b6c45a75704"
      },
      "source": [
        "#opérations booléennes\n",
        "x = np.random.rand(3,3)\n",
        "x > 0.5"
      ],
      "execution_count": null,
      "outputs": [
        {
          "output_type": "execute_result",
          "data": {
            "text/plain": [
              "array([[False, False,  True],\n",
              "       [False,  True, False],\n",
              "       [ True, False,  True]])"
            ]
          },
          "metadata": {
            "tags": []
          },
          "execution_count": 22
        }
      ]
    },
    {
      "cell_type": "code",
      "metadata": {
        "colab": {
          "base_uri": "https://localhost:8080/"
        },
        "id": "_pkwuTcptz1E",
        "outputId": "2abb8162-8bed-4645-b22b-c45a80beb671"
      },
      "source": [
        "#retourne les index des éléments du tableau qui respecte la propriété\n",
        "np.where(x > 0.5)\n"
      ],
      "execution_count": null,
      "outputs": [
        {
          "output_type": "execute_result",
          "data": {
            "text/plain": [
              "(array([0, 1, 2, 2]), array([2, 1, 0, 2]))"
            ]
          },
          "metadata": {
            "tags": []
          },
          "execution_count": 23
        }
      ]
    },
    {
      "cell_type": "code",
      "metadata": {
        "colab": {
          "base_uri": "https://localhost:8080/"
        },
        "id": "OefY8DN6t1EG",
        "outputId": "481efc3e-7888-48df-c2e1-e4f26898f6a2"
      },
      "source": [
        "L = np.random.random(100)\n",
        "np.sum(L)\n"
      ],
      "execution_count": null,
      "outputs": [
        {
          "output_type": "execute_result",
          "data": {
            "text/plain": [
              "53.848485199679146"
            ]
          },
          "metadata": {
            "tags": []
          },
          "execution_count": 24
        }
      ]
    },
    {
      "cell_type": "code",
      "metadata": {
        "colab": {
          "base_uri": "https://localhost:8080/"
        },
        "id": "2yt2VCt8t2Qe",
        "outputId": "2db7fc2e-43ad-4235-9f30-eeeef8803bef"
      },
      "source": [
        "#fonctions d'aggrégation \n",
        "M = np.random.random((3, 4))\n",
        "print(M)\n",
        "# Notez la syntax variable.fonction au lieu de \n",
        "# np.fonction(variable). Les deux sont possibles si\n",
        "# la variable est un tableau Numpy.\n",
        "print(\"La somme de tous les éléments de M: \", M.sum())\n",
        "print(\"Les sommes des colonnes de M: \", M.sum(axis=0))"
      ],
      "execution_count": null,
      "outputs": [
        {
          "output_type": "stream",
          "text": [
            "[[0.65966841 0.53320625 0.23053302 0.39486929]\n",
            " [0.61880856 0.47486752 0.47013219 0.71607453]\n",
            " [0.287991   0.38346223 0.74916984 0.87845219]]\n",
            "La somme de tous les éléments de M:  6.397235040254322\n",
            "Les sommes des colonnes de M:  [1.56646798 1.39153599 1.44983505 1.98939601]\n"
          ],
          "name": "stdout"
        }
      ]
    },
    {
      "cell_type": "code",
      "metadata": {
        "colab": {
          "base_uri": "https://localhost:8080/"
        },
        "id": "EQExkcwTt3uo",
        "outputId": "5d9742cc-90a2-4d7e-c418-46b62397067f"
      },
      "source": [
        "# np.std  pour calculer l'écart type\n",
        "# np.argmin  pour trouver l'index de l'élément minimum\n",
        "# np.percentile  pour calculer des statistiques sur les éléments.\n",
        "\n",
        "#Broadcasting \n",
        "a = np.array([0, 1, 2])\n",
        "b = np.array([5, 5, 5])\n",
        "a + 5 # equivaut à a + b"
      ],
      "execution_count": null,
      "outputs": [
        {
          "output_type": "execute_result",
          "data": {
            "text/plain": [
              "array([5, 6, 7])"
            ]
          },
          "metadata": {
            "tags": []
          },
          "execution_count": 26
        }
      ]
    },
    {
      "cell_type": "code",
      "metadata": {
        "colab": {
          "base_uri": "https://localhost:8080/"
        },
        "id": "rzpU5xSLt6HY",
        "outputId": "0a214104-4a84-4b1d-99ea-969e450d081b"
      },
      "source": [
        "M = np.ones((3, 3))\n",
        "print(\"M vaut: \\n\", M)\n",
        "print(\"M+a vaut: \\n\", M+a)"
      ],
      "execution_count": null,
      "outputs": [
        {
          "output_type": "stream",
          "text": [
            "M vaut: \n",
            " [[1. 1. 1.]\n",
            " [1. 1. 1.]\n",
            " [1. 1. 1.]]\n",
            "M+a vaut: \n",
            " [[1. 2. 3.]\n",
            " [1. 2. 3.]\n",
            " [1. 2. 3.]]\n"
          ],
          "name": "stdout"
        }
      ]
    },
    {
      "cell_type": "code",
      "metadata": {
        "id": "U3VChVhKt72W"
      },
      "source": [
        ""
      ],
      "execution_count": null,
      "outputs": []
    }
  ]
}